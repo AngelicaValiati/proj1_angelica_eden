{
 "cells": [
  {
   "cell_type": "markdown",
   "id": "69bcc70e",
   "metadata": {},
   "source": [
    "Processamento de dados:\n",
    "- criar tabela com todos os MQLs, com todas as informações disponíveis para cada um.\n",
    "- criar uma coluna com quais MQLs fecharam acordo e quais foram perdidos."
   ]
  },
  {
   "cell_type": "markdown",
   "id": "1a9716a1",
   "metadata": {},
   "source": [
    "Perguntas a serem respondidas:\n",
    "- Qual foi a taxa de conversão total?\n",
    "- Qual foi a taxa de conversão de cada origem?\n",
    "- Qual foi a taxa de conversão de cada página inicial?\n",
    "- Para cada SR, qual a receita média declarada dos leads?\n",
    "- Para cada SR, quantos de cada business_type a pessoa converteu?\n",
    "- Para cada SR, quantos de cada lead_behaviour_profile a pessoa converteu?\n",
    "- Para cada SR, quantos de cada lead_type a pessoa converteu?"
   ]
  },
  {
   "cell_type": "markdown",
   "id": "78ce753d",
   "metadata": {},
   "source": [
    "Extra:\n",
    "\n",
    "Caso consiga resolver as questões acima com facilidade, aproveite a base \"irmã\" dessa para fazer outras explorações que você ache interessante!\n",
    "\n",
    "https://www.kaggle.com/datasets/olistbr/brazilian-ecommerce\n",
    "\n",
    "Lembre de separar novamente em 2 etapas: \n",
    "1. Processamento dos dados, para criar uma tabela \"analítica\".\n",
    "2. Análise exploratória dos dados."
   ]
  },
  {
   "cell_type": "code",
   "execution_count": null,
   "id": "83123cd2",
   "metadata": {},
   "outputs": [],
   "source": [
    "import numpy as np\n",
    "import pandas as pd"
   ]
  },
  {
   "cell_type": "code",
   "execution_count": null,
   "id": "5dd51523",
   "metadata": {},
   "outputs": [],
   "source": [
    "df_closed = pd.read_csv('../dados/olist_closed_deals_dataset.csv', sep=\",\")\n",
    "df_closed['contract'] = \"accepted\"\n",
    "dt_marketing = pd.read_csv('../dados/olist_marketing_qualified_leads_dataset.csv', sep=\",\")"
   ]
  },
  {
   "cell_type": "code",
   "execution_count": null,
   "id": "5f512f71",
   "metadata": {},
   "outputs": [],
   "source": [
    "df_total_mql = df_closed.merge(dt_marketing, left_on=['mql_id'], right_on=['mql_id'], how='right')\n",
    "df_total_mql = df_total_mql.replace(np.nan, 0, regex=True)\n",
    "df_total_mql['seller_id'].fillna(0, inplace=True)\n",
    "df_total_mql.loc[(df_total_mql['seller_id'] == 0), 'contract'] = \"lost\""
   ]
  },
  {
   "cell_type": "code",
   "execution_count": null,
   "id": "8fb3f17c",
   "metadata": {},
   "outputs": [],
   "source": [
    "### Taxa de conversão total - somar todas a receita mensal e dividir pela quantidade total de mql\n",
    "df_lost = df_total_mql[(df_total_mql['contract'] != \"lost\")].count()\n",
    "tx_total = (df_lost['mql_id'].count() / df_total_mql['mql_id'].count()) * 100\n",
    "\n",
    "print(\"A taxa de conversão total de mql ativos e total é de: \", tx_total, \"%\")"
   ]
  },
  {
   "cell_type": "code",
   "execution_count": null,
   "id": "4c4677c8",
   "metadata": {},
   "outputs": [],
   "source": [
    "##Qual foi a taxa de conversão de cada origem?\n",
    "\n",
    "df_origin = df_lost.groupby(['origin']).agg(origin_origin=('origin', 'count')).reset_index()\n",
    "df_origin['tx_conversao'] = (df_origin['origin_origin'] / df_total_mql['origin'].count()) * 100\n",
    "\n",
    "print(\"A taxa de conversão para cada origin é: \\n\", df_origin)\n",
    "\n"
   ]
  },
  {
   "cell_type": "code",
   "execution_count": null,
   "id": "39f7f695",
   "metadata": {},
   "outputs": [],
   "source": [
    "##Qual foi a taxa de conversão de cada página inicial?"
   ]
  },
  {
   "cell_type": "code",
   "execution_count": null,
   "id": "d5d3a064",
   "metadata": {},
   "outputs": [],
   "source": [
    "df_total_mql['landing_page_id'].unique()"
   ]
  },
  {
   "cell_type": "code",
   "execution_count": null,
   "id": "13692b03",
   "metadata": {},
   "outputs": [],
   "source": []
  }
 ],
 "metadata": {
  "kernelspec": {
   "display_name": "Python (DataScience)",
   "language": "python",
   "name": "data_science"
  },
  "language_info": {
   "codemirror_mode": {
    "name": "ipython",
    "version": 3
   },
   "file_extension": ".py",
   "mimetype": "text/x-python",
   "name": "python",
   "nbconvert_exporter": "python",
   "pygments_lexer": "ipython3",
   "version": "3.7.2"
  }
 },
 "nbformat": 4,
 "nbformat_minor": 5
}
